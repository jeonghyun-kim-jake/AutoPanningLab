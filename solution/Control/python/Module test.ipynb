{
 "cells": [
  {
   "cell_type": "markdown",
   "id": "b114e7c3-0275-47e4-ab7b-ebe77c3bfbed",
   "metadata": {
    "tags": []
   },
   "source": [
    "# Test Step Motor"
   ]
  },
  {
   "cell_type": "code",
   "execution_count": null,
   "id": "e020c890-677c-4244-83b4-83abf351fa27",
   "metadata": {},
   "outputs": [
    {
     "name": "stdout",
     "output_type": "stream",
     "text": [
      "[sudo] password for jh20akim: "
     ]
    }
   ],
   "source": [
    "! sudo apt-get install python3-rpi.gpio\n",
    "! pip install RPi.GPIO"
   ]
  },
  {
   "cell_type": "raw",
   "id": "3d679c30-0da7-462f-a984-7ac0ccc4aa34",
   "metadata": {},
   "source": [
    "# SAMPLE code\n",
    "\n",
    "import RPi.GPIO as GPIO\n",
    "import time\n",
    "from collections import deque\n",
    "GPIO.setmode(GPIO.BOARD)\n",
    "AIN1=3\n",
    "BIN1=5\n",
    "AIN2=7\n",
    "BIN2=8\n",
    "sig=deque([1,0,0,0])\n",
    "step=4000\n",
    "dir=1\n",
    "\n",
    "\n",
    "GPIO.setup(AIN1,GPIO.OUT,initial=GPIO.LOW)\n",
    "GPIO.setup(BIN1,GPIO.OUT,initial=GPIO.LOW)\n",
    "GPIO.setup(AIN2,GPIO.OUT,initial=GPIO.LOW)\n",
    "GPIO.setup(BIN2,GPIO.OUT,initial=GPIO.LOW)\n",
    "\n",
    "try:\n",
    "    while 1:\n",
    "        for cnt in range(0,step):\n",
    "            if cnt % 10 == 0 :\n",
    "                print (\"cnt\", cnt)\n",
    "            GPIO.output(AIN1,sig[0])\n",
    "            GPIO.output(BIN1,sig[1])\n",
    "            GPIO.output(AIN2,sig[2])\n",
    "            GPIO.output(BIN2,sig[3])\n",
    "            time.sleep(0.002)\n",
    "            sig.rotate(dir)\n",
    "        dir=dir*-1\n",
    "except KeyboardInterrupt:\n",
    "    pass\n",
    "GPIO.cleanup()"
   ]
  },
  {
   "cell_type": "code",
   "execution_count": 1,
   "id": "8fd6786e-01e4-4db0-8cc4-b2a57e73d7ac",
   "metadata": {
    "tags": []
   },
   "outputs": [],
   "source": [
    "import RPi.GPIO as GPIO\n",
    "import threading                                                                \n",
    "from collections import deque\n",
    "\n",
    "# for logging\n",
    "import logging\n",
    "logging.basicConfig(\n",
    "    filename=\"StepMotor28BYJ_Test.log\",\n",
    "    format='%(asctime)s %(levelname)s:%(message)s',\n",
    "    level=logging.DEBUG,\n",
    "    datefmt='%m/%d/%Y %I:%M:%S %p',\n",
    ")\n",
    "###\n",
    "\n",
    "class StepMotor28BYJ:\n",
    "    def __init__(self, aint=3, bint=5, aint2=7, bint2=8):        \n",
    "        self.aint = aint    \n",
    "        self.bint = bint    \n",
    "        self.aint2 = aint2    \n",
    "        self.bint2 = bint2\n",
    "        self.sig= deque([1,0,0,0])\n",
    "        self.lock = threading.RLock()\n",
    "        logging.debug('constructed')\n",
    "        \n",
    "    def init(self):\n",
    "        logging.debug('init called')\n",
    "        GPIO.setmode(GPIO.BOARD)\n",
    "        GPIO.setup(self.aint,GPIO.OUT,initial=GPIO.LOW)\n",
    "        GPIO.setup(self.bint,GPIO.OUT,initial=GPIO.LOW)\n",
    "        GPIO.setup(self.aint2,GPIO.OUT,initial=GPIO.LOW)\n",
    "        GPIO.setup(self.bint2,GPIO.OUT,initial=GPIO.LOW)\n",
    "        logging.debug('init succeed')\n",
    "        \n",
    "    def rotate(self, direction=True):\n",
    "        logging.debug('rotate called')\n",
    "        with self.lock:\n",
    "            sig = self.sig\n",
    "            GPIO.output(self.aint,sig[0])\n",
    "            GPIO.output(self.bint,sig[1])\n",
    "            GPIO.output(self.aint2,sig[2])\n",
    "            GPIO.output(self.bint2,sig[3])\n",
    "            sig.rotate(1 if direction else -1)\n",
    "            logging.debug('rotate succeed')\n",
    "\n",
    "            \n",
    "    def deinit(self):\n",
    "        GPIO.cleanup()\n",
    "        logging.debug('deInit succeed')\n",
    "        \n",
    "   "
   ]
  },
  {
   "cell_type": "code",
   "execution_count": 2,
   "id": "51a7260e-5c53-47a5-aa8d-2052503c7feb",
   "metadata": {},
   "outputs": [
    {
     "name": "stdout",
     "output_type": "stream",
     "text": [
      "current cnt:  0\n",
      "current cnt:  100\n",
      "current cnt:  200\n",
      "current cnt:  300\n",
      "current cnt:  400\n",
      "current cnt:  500\n",
      "current cnt:  600\n",
      "current cnt:  700\n",
      "current cnt:  800\n",
      "current cnt:  900\n"
     ]
    }
   ],
   "source": [
    "import time\n",
    "\n",
    "# Set count as 1000\n",
    "targetCnt = 1000 \n",
    "\n",
    "try:\n",
    "    motor = StepMotor28BYJ()\n",
    "    motor.init()\n",
    "        \n",
    "    for cnt in range(0, targetCnt):\n",
    "        if cnt % 100 == 0 :\n",
    "            print (\"current cnt: \", cnt)\n",
    "        motor.rotate(True)\n",
    "        time.sleep(0.002)\n",
    "except KeyboardInterrupt:\n",
    "    pass\n",
    "finally:\n",
    "    motor.deinit()"
   ]
  },
  {
   "cell_type": "markdown",
   "id": "7ede0bf1-4dcc-4a75-8fff-972b08863676",
   "metadata": {},
   "source": [
    "# Test Servo Motor"
   ]
  },
  {
   "cell_type": "code",
   "execution_count": 3,
   "id": "0299ee87-a5e0-4441-a51f-c92b7d7c0bf1",
   "metadata": {
    "tags": []
   },
   "outputs": [],
   "source": [
    "import RPi.GPIO as GPIO\n",
    "import time\n",
    "\n",
    "GPIO.setmode(GPIO.BOARD)\n",
    "\n",
    "# set up GPIO pin for servo control\n",
    "servo_pin = 12\n",
    "GPIO.setup(servo_pin, GPIO.OUT)\n",
    "\n",
    "# set up PWM signal for servo control\n",
    "pwm = GPIO.PWM(servo_pin, 50)\n",
    "\n",
    "# set initial position of servo motor\n",
    "pwm.start(2.5)\n",
    "# rotate the motor to the 90 degree position\n",
    "pwm.ChangeDutyCycle(7.5)\n",
    "time.sleep(1)\n",
    "\n",
    "# rotate the motor back to the 0 degree position\n",
    "pwm.ChangeDutyCycle(2.5)\n",
    "time.sleep(1)\n",
    "\n",
    "# clean up GPIO pins\n",
    "pwm.stop()\n",
    "GPIO.cleanup()"
   ]
  },
  {
   "cell_type": "code",
   "execution_count": 4,
   "id": "19dfa862-b6eb-4f1c-8846-5d047cd1fb65",
   "metadata": {},
   "outputs": [],
   "source": [
    "import RPi.GPIO as GPIO\n",
    "import time\n",
    "\n",
    "# GPIO Servo모터 제어\n",
    "\n",
    "servo_pin = 12\n",
    "GPIO.setmode(GPIO.BOARD)\n",
    "GPIO.setup(servo_pin, GPIO.OUT)\n",
    "pwm = GPIO.PWM(servo_pin, 50) # 50Hz( 서보모터 PWM 동작을 위한 주파수 )\n",
    "pwm.start(3.0) # 서보모터의 0도 위치( 0.6ms ) 이동: 값 3.0은 pwm 주기인 20ms 의 3% 를 의미\n",
    "\n",
    "for cnt in range(0,3):\n",
    "    pwm.ChangeDutyCycle(3.0) # 0도\n",
    "    time.sleep(1.0)\n",
    "    pwm.ChangeDutyCycle(7.5) # 90도\n",
    "    time.sleep(1.0)\n",
    "    pwm.ChangeDutyCycle(12.5) # 180도\n",
    "    time.sleep(1.0)\n",
    "pwm.stop()"
   ]
  },
  {
   "cell_type": "code",
   "execution_count": 5,
   "id": "c94d256a-b615-4b56-8734-0bc24ad0f6f7",
   "metadata": {},
   "outputs": [],
   "source": [
    "import RPi.GPIO as GPIO\n",
    "import threading\n",
    "\n",
    "class ServoMotorSG90:\n",
    "    def __init__(self, servo_pin=12):        \n",
    "        self.servo_pin = servo_pin    \n",
    "        GPIO.setmode(GPIO.BOARD)\n",
    "        GPIO.setup(servo_pin, GPIO.OUT)\n",
    "        self.lock = threading.RLock()\n",
    "        self.pwm = GPIO.PWM(self.servo_pin, 50) # 50Hz( 서보모터 PWM 동작을 위한 주파수 )\n",
    "        self.pwm.start(3.0) # 서보모터의 0도 위치( 0.6ms ) 이동: 값 3.0은 pwm 주기인 20ms 의 3% 를 의미\n",
    "       \n",
    "        \n",
    "    def rotate(self, degree):\n",
    "        with self.lock:\n",
    "            sig = max(0, min(180, degree))\n",
    "            duty = ( 12.5 * ( sig / 180 ))\n",
    "            self.pwm.ChangeDutyCycle (duty) \n",
    "            \n",
    "            \n",
    "    def deinit(self):\n",
    "        GPIO.cleanup()\n",
    "        "
   ]
  },
  {
   "cell_type": "code",
   "execution_count": 6,
   "id": "a67c8927-2b6d-4460-8c8a-ef991f685466",
   "metadata": {
    "tags": []
   },
   "outputs": [
    {
     "name": "stdout",
     "output_type": "stream",
     "text": [
      "Rotate now  0\n",
      "Rotate now  90\n",
      "Rotate now  120\n",
      "Rotate now  180\n",
      "Rotate now  120\n",
      "Rotate now  90\n",
      "Rotate now  0\n"
     ]
    }
   ],
   "source": [
    "import time\n",
    "\n",
    "servo = ServoMotorSG90()\n",
    "try:    \n",
    "    for degree in [0, 90, 120, 180, 120, 90, 0]:\n",
    "        print (\"Rotate now \", degree)\n",
    "        servo.rotate(degree)        \n",
    "        time.sleep(1)\n",
    "except KeyboardInterrupt:\n",
    "    pass\n",
    "finally:\n",
    "    servo.deinit()"
   ]
  },
  {
   "cell_type": "code",
   "execution_count": null,
   "id": "202a932a-4ee1-4ca2-878c-33ed2bcfe829",
   "metadata": {},
   "outputs": [],
   "source": []
  }
 ],
 "metadata": {
  "kernelspec": {
   "display_name": "Python 3 (ipykernel)",
   "language": "python",
   "name": "python3"
  },
  "language_info": {
   "codemirror_mode": {
    "name": "ipython",
    "version": 3
   },
   "file_extension": ".py",
   "mimetype": "text/x-python",
   "name": "python",
   "nbconvert_exporter": "python",
   "pygments_lexer": "ipython3",
   "version": "3.10.6"
  }
 },
 "nbformat": 4,
 "nbformat_minor": 5
}
