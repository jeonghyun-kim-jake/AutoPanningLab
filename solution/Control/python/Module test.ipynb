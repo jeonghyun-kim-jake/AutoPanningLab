{
 "cells": [
  {
   "cell_type": "markdown",
   "id": "b114e7c3-0275-47e4-ab7b-ebe77c3bfbed",
   "metadata": {
    "tags": []
   },
   "source": [
    "# Test Step Motor"
   ]
  },
  {
   "cell_type": "raw",
   "id": "3d679c30-0da7-462f-a984-7ac0ccc4aa34",
   "metadata": {},
   "source": [
    "# SAMPLE code\n",
    "\n",
    "import RPi.GPIO as GPIO\n",
    "import time\n",
    "from collections import deque\n",
    "GPIO.setmode(GPIO.BOARD)\n",
    "AIN1=3\n",
    "BIN1=5\n",
    "AIN2=7\n",
    "BIN2=8\n",
    "sig=deque([1,0,0,0])\n",
    "step=4000\n",
    "dir=1\n",
    "\n",
    "\n",
    "GPIO.setup(AIN1,GPIO.OUT,initial=GPIO.LOW)\n",
    "GPIO.setup(BIN1,GPIO.OUT,initial=GPIO.LOW)\n",
    "GPIO.setup(AIN2,GPIO.OUT,initial=GPIO.LOW)\n",
    "GPIO.setup(BIN2,GPIO.OUT,initial=GPIO.LOW)\n",
    "\n",
    "try:\n",
    "    while 1:\n",
    "        for cnt in range(0,step):\n",
    "            if cnt % 10 == 0 :\n",
    "                print (\"cnt\", cnt)\n",
    "            GPIO.output(AIN1,sig[0])\n",
    "            GPIO.output(BIN1,sig[1])\n",
    "            GPIO.output(AIN2,sig[2])\n",
    "            GPIO.output(BIN2,sig[3])\n",
    "            time.sleep(0.002)\n",
    "            sig.rotate(dir)\n",
    "        dir=dir*-1\n",
    "except KeyboardInterrupt:\n",
    "    pass\n",
    "GPIO.cleanup()"
   ]
  },
  {
   "cell_type": "code",
   "execution_count": 1,
   "id": "8fd6786e-01e4-4db0-8cc4-b2a57e73d7ac",
   "metadata": {
    "tags": []
   },
   "outputs": [],
   "source": [
    "import RPi.GPIO as GPIO\n",
    "import threading                                                                \n",
    "from collections import deque\n",
    "\n",
    "# for logging\n",
    "import logging\n",
    "logging.basicConfig(\n",
    "    filename=\"StepMotor28BYJ_Test.log\",\n",
    "    format='%(asctime)s %(levelname)s:%(message)s',\n",
    "    level=logging.DEBUG,\n",
    "    datefmt='%m/%d/%Y %I:%M:%S %p',\n",
    ")\n",
    "###\n",
    "\n",
    "class StepMotor28BYJ:\n",
    "    def __init__(self, aint=3, bint=5, aint2=7, bint2=8):        \n",
    "        self.aint = aint    \n",
    "        self.bint = bint    \n",
    "        self.aint2 = aint2    \n",
    "        self.bint2 = bint2\n",
    "        self.sig= deque([1,0,0,0])\n",
    "        self.lock = threading.RLock()\n",
    "        logging.debug('Constructed')\n",
    "        \n",
    "    def init(self):\n",
    "        logging.debug('init called')\n",
    "        GPIO.setmode(GPIO.BOARD)\n",
    "        GPIO.setup(self.aint,GPIO.OUT,initial=GPIO.LOW)\n",
    "        GPIO.setup(self.bint,GPIO.OUT,initial=GPIO.LOW)\n",
    "        GPIO.setup(self.aint2,GPIO.OUT,initial=GPIO.LOW)\n",
    "        GPIO.setup(self.bint2,GPIO.OUT,initial=GPIO.LOW)\n",
    "        logging.debug('init succeed')\n",
    "        \n",
    "    def rotate(self, direction=True):\n",
    "        logging.debug('rotate called')\n",
    "        with self.lock:\n",
    "            sig = self.sig\n",
    "            GPIO.output(self.aint,sig[0])\n",
    "            GPIO.output(self.bint,sig[1])\n",
    "            GPIO.output(self.aint2,sig[2])\n",
    "            GPIO.output(self.bint2,sig[3])\n",
    "            sig.rotate(1 if direction else -1)\n",
    "            logging.debug('rotate succeed')\n",
    "\n",
    "            \n",
    "    def deinit(self):\n",
    "        GPIO.cleanup()\n",
    "        logging.debug('deInit succeed')\n",
    "        \n",
    "   "
   ]
  },
  {
   "cell_type": "code",
   "execution_count": 2,
   "id": "51a7260e-5c53-47a5-aa8d-2052503c7feb",
   "metadata": {},
   "outputs": [
    {
     "name": "stdout",
     "output_type": "stream",
     "text": [
      "current cnt:  0\n",
      "current cnt:  100\n",
      "current cnt:  200\n",
      "current cnt:  300\n",
      "current cnt:  400\n",
      "current cnt:  500\n",
      "current cnt:  600\n",
      "current cnt:  700\n",
      "current cnt:  800\n",
      "current cnt:  900\n"
     ]
    }
   ],
   "source": [
    "import time\n",
    "\n",
    "# Set count as 1000\n",
    "targetCnt = 1000 \n",
    "\n",
    "try:\n",
    "    motor = StepMotor28BYJ()\n",
    "    motor.init()\n",
    "        \n",
    "    for cnt in range(0, targetCnt):\n",
    "        if cnt % 100 == 0 :\n",
    "            print (\"current cnt: \", cnt)\n",
    "        motor.rotate(True)\n",
    "        time.sleep(0.002)\n",
    "except KeyboardInterrupt:\n",
    "    pass\n",
    "finally:\n",
    "    motor.deinit()"
   ]
  }
 ],
 "metadata": {
  "kernelspec": {
   "display_name": "Python 3 (ipykernel)",
   "language": "python",
   "name": "python3"
  },
  "language_info": {
   "codemirror_mode": {
    "name": "ipython",
    "version": 3
   },
   "file_extension": ".py",
   "mimetype": "text/x-python",
   "name": "python",
   "nbconvert_exporter": "python",
   "pygments_lexer": "ipython3",
   "version": "3.9.2"
  }
 },
 "nbformat": 4,
 "nbformat_minor": 5
}
