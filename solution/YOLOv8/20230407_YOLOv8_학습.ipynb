{
  "nbformat": 4,
  "nbformat_minor": 0,
  "metadata": {
    "colab": {
      "provenance": [],
      "machine_shape": "hm",
      "authorship_tag": "ABX9TyOyoE9Og37+ebI/VwIKxxnv",
      "include_colab_link": true
    },
    "kernelspec": {
      "name": "python3",
      "display_name": "Python 3"
    },
    "language_info": {
      "name": "python"
    },
    "accelerator": "GPU",
    "gpuClass": "standard"
  },
  "cells": [
    {
      "cell_type": "markdown",
      "metadata": {
        "id": "view-in-github",
        "colab_type": "text"
      },
      "source": [
        "<a href=\"https://colab.research.google.com/github/jeonghyun-kim-jake/protowork/blob/main/solution/YOLOv8/20230407_YOLOv8_%ED%95%99%EC%8A%B5.ipynb\" target=\"_parent\"><img src=\"https://colab.research.google.com/assets/colab-badge.svg\" alt=\"Open In Colab\"/></a>"
      ]
    },
    {
      "cell_type": "markdown",
      "source": [
        "# [YOLOv8](https://github.com/ultralytics/ultralytics)"
      ],
      "metadata": {
        "id": "2h4k18aSNxNg"
      }
    },
    {
      "cell_type": "code",
      "source": [
        "from google.colab import drive\n",
        "drive.mount('/content/drive')\n",
        "\n",
        "! ln -s \"/content/drive/MyDrive/Colab Notebooks/Datas/\"  \"/content/\"\n",
        "! ls -al \"/content/Datas\""
      ],
      "metadata": {
        "colab": {
          "base_uri": "https://localhost:8080/"
        },
        "id": "7rJtSKuuOnzg",
        "outputId": "296ed593-21bc-4dc0-9213-55ba27279357"
      },
      "execution_count": 1,
      "outputs": [
        {
          "output_type": "stream",
          "name": "stdout",
          "text": [
            "Mounted at /content/drive\n",
            "lrwxrwxrwx 1 root root 45 Apr 10 12:44 /content/Datas -> '/content/drive/MyDrive/Colab Notebooks/Datas/'\n"
          ]
        }
      ]
    },
    {
      "cell_type": "code",
      "source": [
        "%cd /content\n",
        "! git clone https://github.com/jeonghyun-kim-jake/ultralytics_panning.git"
      ],
      "metadata": {
        "colab": {
          "base_uri": "https://localhost:8080/"
        },
        "id": "TDDOaOb6N1sq",
        "outputId": "e6be1d68-97da-47af-fe1d-4311670215e9"
      },
      "execution_count": 2,
      "outputs": [
        {
          "output_type": "stream",
          "name": "stdout",
          "text": [
            "/content\n",
            "Cloning into 'ultralytics_panning'...\n",
            "remote: Enumerating objects: 5239, done.\u001b[K\n",
            "remote: Total 5239 (delta 0), reused 0 (delta 0), pack-reused 5239\u001b[K\n",
            "Receiving objects: 100% (5239/5239), 2.77 MiB | 29.58 MiB/s, done.\n",
            "Resolving deltas: 100% (3704/3704), done.\n"
          ]
        }
      ]
    },
    {
      "cell_type": "code",
      "source": [
        "%cd /content/ultralytics_panning\n",
        "!git pull --rebase"
      ],
      "metadata": {
        "id": "AFJk1j1k5-jW"
      },
      "execution_count": null,
      "outputs": []
    },
    {
      "cell_type": "code",
      "source": [
        "#take a look at the kind of GPU we have\n",
        "! nvidia-smi"
      ],
      "metadata": {
        "colab": {
          "base_uri": "https://localhost:8080/"
        },
        "id": "YycfyhJuf452",
        "outputId": "9f3e3d91-bb0d-4426-bc37-5b50d85ee50b"
      },
      "execution_count": 3,
      "outputs": [
        {
          "output_type": "stream",
          "name": "stdout",
          "text": [
            "Mon Apr 10 12:45:11 2023       \n",
            "+-----------------------------------------------------------------------------+\n",
            "| NVIDIA-SMI 525.85.12    Driver Version: 525.85.12    CUDA Version: 12.0     |\n",
            "|-------------------------------+----------------------+----------------------+\n",
            "| GPU  Name        Persistence-M| Bus-Id        Disp.A | Volatile Uncorr. ECC |\n",
            "| Fan  Temp  Perf  Pwr:Usage/Cap|         Memory-Usage | GPU-Util  Compute M. |\n",
            "|                               |                      |               MIG M. |\n",
            "|===============================+======================+======================|\n",
            "|   0  Tesla T4            Off  | 00000000:00:04.0 Off |                    0 |\n",
            "| N/A   45C    P8     9W /  70W |      0MiB / 15360MiB |      0%      Default |\n",
            "|                               |                      |                  N/A |\n",
            "+-------------------------------+----------------------+----------------------+\n",
            "                                                                               \n",
            "+-----------------------------------------------------------------------------+\n",
            "| Processes:                                                                  |\n",
            "|  GPU   GI   CI        PID   Type   Process name                  GPU Memory |\n",
            "|        ID   ID                                                   Usage      |\n",
            "|=============================================================================|\n",
            "|  No running processes found                                                 |\n",
            "+-----------------------------------------------------------------------------+\n"
          ]
        }
      ]
    },
    {
      "cell_type": "code",
      "source": [
        "%cd /content\n",
        "# install based on custom git project source code\n",
        "! pip3 install -e ultralytics_panning\n",
        "\n",
        "# install official ultralytics\n",
        "# ! pip3 install ultralytics"
      ],
      "metadata": {
        "colab": {
          "base_uri": "https://localhost:8080/"
        },
        "id": "jXYxWxaqN_Jy",
        "outputId": "4aaa1f0e-efac-4584-917a-434ad92eb830"
      },
      "execution_count": 4,
      "outputs": [
        {
          "output_type": "stream",
          "name": "stdout",
          "text": [
            "/content\n",
            "Looking in indexes: https://pypi.org/simple, https://us-python.pkg.dev/colab-wheels/public/simple/\n",
            "Obtaining file:///content/ultralytics_panning\n",
            "  Preparing metadata (setup.py) ... \u001b[?25l\u001b[?25hdone\n",
            "Requirement already satisfied: matplotlib>=3.2.2 in /usr/local/lib/python3.9/dist-packages (from ultralytics==8.0.69) (3.7.1)\n",
            "Requirement already satisfied: numpy>=1.21.6 in /usr/local/lib/python3.9/dist-packages (from ultralytics==8.0.69) (1.22.4)\n",
            "Requirement already satisfied: opencv-python>=4.6.0 in /usr/local/lib/python3.9/dist-packages (from ultralytics==8.0.69) (4.7.0.72)\n",
            "Requirement already satisfied: Pillow>=7.1.2 in /usr/local/lib/python3.9/dist-packages (from ultralytics==8.0.69) (8.4.0)\n",
            "Requirement already satisfied: PyYAML>=5.3.1 in /usr/local/lib/python3.9/dist-packages (from ultralytics==8.0.69) (6.0)\n",
            "Requirement already satisfied: requests>=2.23.0 in /usr/local/lib/python3.9/dist-packages (from ultralytics==8.0.69) (2.27.1)\n",
            "Requirement already satisfied: scipy>=1.4.1 in /usr/local/lib/python3.9/dist-packages (from ultralytics==8.0.69) (1.10.1)\n",
            "Requirement already satisfied: torch>=1.7.0 in /usr/local/lib/python3.9/dist-packages (from ultralytics==8.0.69) (2.0.0+cu118)\n",
            "Requirement already satisfied: torchvision>=0.8.1 in /usr/local/lib/python3.9/dist-packages (from ultralytics==8.0.69) (0.15.1+cu118)\n",
            "Requirement already satisfied: tqdm>=4.64.0 in /usr/local/lib/python3.9/dist-packages (from ultralytics==8.0.69) (4.65.0)\n",
            "Requirement already satisfied: pandas>=1.1.4 in /usr/local/lib/python3.9/dist-packages (from ultralytics==8.0.69) (1.4.4)\n",
            "Requirement already satisfied: seaborn>=0.11.0 in /usr/local/lib/python3.9/dist-packages (from ultralytics==8.0.69) (0.12.2)\n",
            "Requirement already satisfied: psutil in /usr/local/lib/python3.9/dist-packages (from ultralytics==8.0.69) (5.9.4)\n",
            "Collecting thop>=0.1.1\n",
            "  Downloading thop-0.1.1.post2209072238-py3-none-any.whl (15 kB)\n",
            "Collecting sentry_sdk\n",
            "  Downloading sentry_sdk-1.19.1-py2.py3-none-any.whl (199 kB)\n",
            "\u001b[2K     \u001b[90m━━━━━━━━━━━━━━━━━━━━━━━━━━━━━━━━━━━━━━\u001b[0m \u001b[32m199.2/199.2 KB\u001b[0m \u001b[31m19.7 MB/s\u001b[0m eta \u001b[36m0:00:00\u001b[0m\n",
            "\u001b[?25hRequirement already satisfied: pyparsing>=2.3.1 in /usr/local/lib/python3.9/dist-packages (from matplotlib>=3.2.2->ultralytics==8.0.69) (3.0.9)\n",
            "Requirement already satisfied: kiwisolver>=1.0.1 in /usr/local/lib/python3.9/dist-packages (from matplotlib>=3.2.2->ultralytics==8.0.69) (1.4.4)\n",
            "Requirement already satisfied: packaging>=20.0 in /usr/local/lib/python3.9/dist-packages (from matplotlib>=3.2.2->ultralytics==8.0.69) (23.0)\n",
            "Requirement already satisfied: cycler>=0.10 in /usr/local/lib/python3.9/dist-packages (from matplotlib>=3.2.2->ultralytics==8.0.69) (0.11.0)\n",
            "Requirement already satisfied: python-dateutil>=2.7 in /usr/local/lib/python3.9/dist-packages (from matplotlib>=3.2.2->ultralytics==8.0.69) (2.8.2)\n",
            "Requirement already satisfied: importlib-resources>=3.2.0 in /usr/local/lib/python3.9/dist-packages (from matplotlib>=3.2.2->ultralytics==8.0.69) (5.12.0)\n",
            "Requirement already satisfied: fonttools>=4.22.0 in /usr/local/lib/python3.9/dist-packages (from matplotlib>=3.2.2->ultralytics==8.0.69) (4.39.3)\n",
            "Requirement already satisfied: contourpy>=1.0.1 in /usr/local/lib/python3.9/dist-packages (from matplotlib>=3.2.2->ultralytics==8.0.69) (1.0.7)\n",
            "Requirement already satisfied: pytz>=2020.1 in /usr/local/lib/python3.9/dist-packages (from pandas>=1.1.4->ultralytics==8.0.69) (2022.7.1)\n",
            "Requirement already satisfied: charset-normalizer~=2.0.0 in /usr/local/lib/python3.9/dist-packages (from requests>=2.23.0->ultralytics==8.0.69) (2.0.12)\n",
            "Requirement already satisfied: idna<4,>=2.5 in /usr/local/lib/python3.9/dist-packages (from requests>=2.23.0->ultralytics==8.0.69) (3.4)\n",
            "Requirement already satisfied: urllib3<1.27,>=1.21.1 in /usr/local/lib/python3.9/dist-packages (from requests>=2.23.0->ultralytics==8.0.69) (1.26.15)\n",
            "Requirement already satisfied: certifi>=2017.4.17 in /usr/local/lib/python3.9/dist-packages (from requests>=2.23.0->ultralytics==8.0.69) (2022.12.7)\n",
            "Requirement already satisfied: typing-extensions in /usr/local/lib/python3.9/dist-packages (from torch>=1.7.0->ultralytics==8.0.69) (4.5.0)\n",
            "Requirement already satisfied: networkx in /usr/local/lib/python3.9/dist-packages (from torch>=1.7.0->ultralytics==8.0.69) (3.0)\n",
            "Requirement already satisfied: triton==2.0.0 in /usr/local/lib/python3.9/dist-packages (from torch>=1.7.0->ultralytics==8.0.69) (2.0.0)\n",
            "Requirement already satisfied: sympy in /usr/local/lib/python3.9/dist-packages (from torch>=1.7.0->ultralytics==8.0.69) (1.11.1)\n",
            "Requirement already satisfied: jinja2 in /usr/local/lib/python3.9/dist-packages (from torch>=1.7.0->ultralytics==8.0.69) (3.1.2)\n",
            "Requirement already satisfied: filelock in /usr/local/lib/python3.9/dist-packages (from torch>=1.7.0->ultralytics==8.0.69) (3.10.7)\n",
            "Requirement already satisfied: cmake in /usr/local/lib/python3.9/dist-packages (from triton==2.0.0->torch>=1.7.0->ultralytics==8.0.69) (3.25.2)\n",
            "Requirement already satisfied: lit in /usr/local/lib/python3.9/dist-packages (from triton==2.0.0->torch>=1.7.0->ultralytics==8.0.69) (16.0.0)\n",
            "Requirement already satisfied: zipp>=3.1.0 in /usr/local/lib/python3.9/dist-packages (from importlib-resources>=3.2.0->matplotlib>=3.2.2->ultralytics==8.0.69) (3.15.0)\n",
            "Requirement already satisfied: six>=1.5 in /usr/local/lib/python3.9/dist-packages (from python-dateutil>=2.7->matplotlib>=3.2.2->ultralytics==8.0.69) (1.16.0)\n",
            "Requirement already satisfied: MarkupSafe>=2.0 in /usr/local/lib/python3.9/dist-packages (from jinja2->torch>=1.7.0->ultralytics==8.0.69) (2.1.2)\n",
            "Requirement already satisfied: mpmath>=0.19 in /usr/local/lib/python3.9/dist-packages (from sympy->torch>=1.7.0->ultralytics==8.0.69) (1.3.0)\n",
            "Installing collected packages: sentry_sdk, thop, ultralytics\n",
            "  Running setup.py develop for ultralytics\n",
            "Successfully installed sentry_sdk-1.19.1 thop-0.1.1.post2209072238 ultralytics-8.0.69\n"
          ]
        }
      ]
    },
    {
      "cell_type": "code",
      "source": [
        "# test yolo installation\n",
        "! yolo task=detect mode=predict model=yolov8n.pt conf=0.25 source='https://media.roboflow.com/notebooks/examples/dog.jpeg'"
      ],
      "metadata": {
        "id": "Uetkawf-QFOk"
      },
      "execution_count": null,
      "outputs": []
    },
    {
      "cell_type": "code",
      "source": [
        "%cd /content/ultralytics_panning\n",
        "!cp \"/content/drive/MyDrive/Colab Notebooks/scripts/yolov8_custom_data.yaml\" ultralytics/datasets/"
      ],
      "metadata": {
        "colab": {
          "base_uri": "https://localhost:8080/"
        },
        "id": "QReCRAY7NQli",
        "outputId": "21199304-e511-4c16-cd5e-8aba558579cd"
      },
      "execution_count": 6,
      "outputs": [
        {
          "output_type": "stream",
          "name": "stdout",
          "text": [
            "/content/ultralytics_panning\n"
          ]
        }
      ]
    },
    {
      "cell_type": "code",
      "source": [
        "\n",
        "from pathlib import Path\n",
        "\n",
        "class Project:\n",
        "  def __init__(self, epochs, projectName=\"autoPanning\", basePath=\"/content/drive/MyDrive/Colab Notebooks/Results\"):\n",
        "    self.project_name = getCurrentTimeStr(projectName)+\"_epoch\"+str(epochs)\n",
        "    self.base_path = Path(basePath)\n",
        "    self.save_dir= self.base_path / Path(self.project_name);\n",
        "    self.best_model_path= self.base_path / self.project_name / \"weights\" / \"best.pt\";\n",
        "    self.result_dir= self.save_dir / \"results\"\n",
        "\n",
        "    print(\"Configured project\", self.project_name)\n",
        "    print(\"save_dir :\", self.save_dir)\n",
        "      \n",
        "\n",
        "def getCurrentTimeStr(prefix=\"\", format=\"%Y%m%d_%H%M_%S\"):\n",
        "   import datetime\n",
        "   tmp = datetime.datetime.now().strftime(format)\n",
        "   if len(prefix)>0:\n",
        "     tmp = prefix+\"_\"+tmp\n",
        "   return tmp\n",
        "\n",
        "\n",
        "def deleteDirectory(path):\n",
        "   import shutil\n",
        "   try:\n",
        "       shutil.rmtree(path)\n",
        "       print(f\"Folder '{path}' deleted successfully!\")\n",
        "   except OSError as e:\n",
        "       print(f\"Error deleting folder '{path}': {e}\")\n",
        "\n"
      ],
      "metadata": {
        "id": "8wTWjbZI7aGE"
      },
      "execution_count": 5,
      "outputs": []
    },
    {
      "cell_type": "code",
      "source": [
        "# parameter\n",
        "# epochs = 2000\n",
        "epochs = 5\n",
        "save_period = 10\n",
        "#######################\n",
        "\n",
        "proj = Project(epochs)\n",
        "\n",
        "print(\"Project will be saved on \", proj.save_dir)\n",
        "\n",
        "from ultralytics import YOLO\n",
        "\n",
        "# Load a model\n",
        "model = YOLO('yolov8n.yaml').load('yolov8n.pt')  # build from YAML and transfer weights\n",
        "# Train the model\n",
        "model.train(data='yolov8_custom_data.yaml', epochs=epochs, imgsz=640, batch=25,\n",
        "            device=\"0\", save_period=save_period, project=\"autoPanning\",single_cls=True, \n",
        "            name=proj.project_name, save_json=True, visualize=True, \n",
        "            save_txt=True, save_conf=True, \n",
        "            save_dir=proj.save_dir, patience=0)#, show=True, save_hybrid=True )\n",
        "\n",
        "# Load best model from result\n",
        "predict_model = YOLO(proj.best_model_path)\n",
        "# Export onnx model file\n",
        "predict_model.export(format='onnx')\n",
        "\n",
        "# Inference with test images\n",
        "results  = predict_model.predict(\n",
        "   source='/content/Datas/AutoPanning/datasets/darknet/220405/test',\n",
        "   conf=0.25,\n",
        "   save_conf=True,\n",
        "   save_txt=True,\n",
        "   save_dir=proj.result_dir,\n",
        "   visualize=True,\n",
        "   save=True,\n",
        "   save_crop=True,\n",
        "   boxes=True,\n",
        "   verbose=False\n",
        ")"
      ],
      "metadata": {
        "colab": {
          "base_uri": "https://localhost:8080/"
        },
        "id": "eVjQbDDUCNKG",
        "outputId": "30f503d9-95d6-4048-d0a3-16396b06da47"
      },
      "execution_count": 7,
      "outputs": [
        {
          "output_type": "stream",
          "name": "stdout",
          "text": [
            "Configured project autoPanning_20230410_1251_04_epoch5\n",
            "save_dir : /content/drive/MyDrive/Colab Notebooks/Results/autoPanning_20230410_1251_04_epoch5\n",
            "Project will be saved on  /content/drive/MyDrive/Colab Notebooks/Results/autoPanning_20230410_1251_04_epoch5\n"
          ]
        },
        {
          "output_type": "stream",
          "name": "stderr",
          "text": [
            "\n",
            "                   from  n    params  module                                       arguments                     \n",
            "  0                  -1  1       464  ultralytics.nn.modules.Conv                  [3, 16, 3, 2]                 \n",
            "  1                  -1  1      4672  ultralytics.nn.modules.Conv                  [16, 32, 3, 2]                \n",
            "  2                  -1  1      7360  ultralytics.nn.modules.C2f                   [32, 32, 1, True]             \n",
            "  3                  -1  1     18560  ultralytics.nn.modules.Conv                  [32, 64, 3, 2]                \n",
            "  4                  -1  2     49664  ultralytics.nn.modules.C2f                   [64, 64, 2, True]             \n",
            "  5                  -1  1     73984  ultralytics.nn.modules.Conv                  [64, 128, 3, 2]               \n",
            "  6                  -1  2    197632  ultralytics.nn.modules.C2f                   [128, 128, 2, True]           \n",
            "  7                  -1  1    295424  ultralytics.nn.modules.Conv                  [128, 256, 3, 2]              \n",
            "  8                  -1  1    460288  ultralytics.nn.modules.C2f                   [256, 256, 1, True]           \n",
            "  9                  -1  1    164608  ultralytics.nn.modules.SPPF                  [256, 256, 5]                 \n",
            " 10                  -1  1         0  torch.nn.modules.upsampling.Upsample         [None, 2, 'nearest']          \n",
            " 11             [-1, 6]  1         0  ultralytics.nn.modules.Concat                [1]                           \n",
            " 12                  -1  1    148224  ultralytics.nn.modules.C2f                   [384, 128, 1]                 \n",
            " 13                  -1  1         0  torch.nn.modules.upsampling.Upsample         [None, 2, 'nearest']          \n",
            " 14             [-1, 4]  1         0  ultralytics.nn.modules.Concat                [1]                           \n",
            " 15                  -1  1     37248  ultralytics.nn.modules.C2f                   [192, 64, 1]                  \n",
            " 16                  -1  1     36992  ultralytics.nn.modules.Conv                  [64, 64, 3, 2]                \n",
            " 17            [-1, 12]  1         0  ultralytics.nn.modules.Concat                [1]                           \n",
            " 18                  -1  1    123648  ultralytics.nn.modules.C2f                   [192, 128, 1]                 \n",
            " 19                  -1  1    147712  ultralytics.nn.modules.Conv                  [128, 128, 3, 2]              \n",
            " 20             [-1, 9]  1         0  ultralytics.nn.modules.Concat                [1]                           \n",
            " 21                  -1  1    493056  ultralytics.nn.modules.C2f                   [384, 256, 1]                 \n",
            " 22        [15, 18, 21]  1    897664  ultralytics.nn.modules.Detect                [80, [64, 128, 256]]          \n",
            "YOLOv8n summary: 225 layers, 3157200 parameters, 3157184 gradients, 8.9 GFLOPs\n",
            "\n",
            "Downloading https://github.com/ultralytics/assets/releases/download/v0.0.0/yolov8n.pt to yolov8n.pt...\n",
            "100%|██████████| 6.23M/6.23M [00:00<00:00, 227MB/s]\n",
            "Transferred 355/355 items from pretrained weights\n",
            "New https://pypi.org/project/ultralytics/8.0.72 available 😃 Update with 'pip install -U ultralytics'\n",
            "Ultralytics YOLOv8.0.69 🚀 Python-3.9.16 torch-2.0.0+cu118 CUDA:0 (Tesla T4, 15102MiB)\n",
            "\u001b[34m\u001b[1myolo/engine/trainer: \u001b[0mtask=detect, mode=train, model=yolov8n.yaml, data=yolov8_custom_data.yaml, epochs=5, patience=0, batch=25, imgsz=640, save=True, save_period=10, cache=False, device=0, workers=8, project=autoPanning, name=autoPanning_20230410_1251_04_epoch5, exist_ok=False, pretrained=False, optimizer=SGD, verbose=True, seed=0, deterministic=True, single_cls=True, image_weights=False, rect=False, cos_lr=False, close_mosaic=10, resume=False, amp=True, overlap_mask=True, mask_ratio=4, dropout=0.0, val=True, split=val, save_json=True, save_hybrid=False, conf=None, iou=0.7, max_det=300, half=False, dnn=False, plots=True, source=None, show=False, save_txt=True, save_conf=True, save_crop=False, show_labels=True, show_conf=True, vid_stride=1, line_thickness=3, visualize=True, augment=False, agnostic_nms=False, classes=None, retina_masks=False, boxes=True, format=torchscript, keras=False, optimize=False, int8=False, dynamic=False, simplify=False, opset=None, workspace=4, nms=False, lr0=0.01, lrf=0.01, momentum=0.937, weight_decay=0.0005, warmup_epochs=3.0, warmup_momentum=0.8, warmup_bias_lr=0.1, box=7.5, cls=0.5, dfl=1.5, pose=12.0, kobj=1.0, fl_gamma=0.0, label_smoothing=0.0, nbs=64, hsv_h=0.015, hsv_s=0.7, hsv_v=0.4, degrees=0.0, translate=0.1, scale=0.5, shear=0.0, perspective=0.0, flipud=0.0, fliplr=0.5, mosaic=1.0, mixup=0.0, copy_paste=0.0, cfg=None, v5loader=False, tracker=botsort.yaml, save_dir=/content/drive/MyDrive/Colab Notebooks/Results/autoPanning_20230410_1251_04_epoch5\n",
            "Downloading https://ultralytics.com/assets/Arial.ttf to /root/.config/Ultralytics/Arial.ttf...\n",
            "100%|██████████| 755k/755k [00:00<00:00, 116MB/s]\n",
            "Overriding model.yaml nc=80 with nc=1\n",
            "\n",
            "                   from  n    params  module                                       arguments                     \n",
            "  0                  -1  1       464  ultralytics.nn.modules.Conv                  [3, 16, 3, 2]                 \n",
            "  1                  -1  1      4672  ultralytics.nn.modules.Conv                  [16, 32, 3, 2]                \n",
            "  2                  -1  1      7360  ultralytics.nn.modules.C2f                   [32, 32, 1, True]             \n",
            "  3                  -1  1     18560  ultralytics.nn.modules.Conv                  [32, 64, 3, 2]                \n",
            "  4                  -1  2     49664  ultralytics.nn.modules.C2f                   [64, 64, 2, True]             \n",
            "  5                  -1  1     73984  ultralytics.nn.modules.Conv                  [64, 128, 3, 2]               \n",
            "  6                  -1  2    197632  ultralytics.nn.modules.C2f                   [128, 128, 2, True]           \n",
            "  7                  -1  1    295424  ultralytics.nn.modules.Conv                  [128, 256, 3, 2]              \n",
            "  8                  -1  1    460288  ultralytics.nn.modules.C2f                   [256, 256, 1, True]           \n",
            "  9                  -1  1    164608  ultralytics.nn.modules.SPPF                  [256, 256, 5]                 \n",
            " 10                  -1  1         0  torch.nn.modules.upsampling.Upsample         [None, 2, 'nearest']          \n",
            " 11             [-1, 6]  1         0  ultralytics.nn.modules.Concat                [1]                           \n",
            " 12                  -1  1    148224  ultralytics.nn.modules.C2f                   [384, 128, 1]                 \n",
            " 13                  -1  1         0  torch.nn.modules.upsampling.Upsample         [None, 2, 'nearest']          \n",
            " 14             [-1, 4]  1         0  ultralytics.nn.modules.Concat                [1]                           \n",
            " 15                  -1  1     37248  ultralytics.nn.modules.C2f                   [192, 64, 1]                  \n",
            " 16                  -1  1     36992  ultralytics.nn.modules.Conv                  [64, 64, 3, 2]                \n",
            " 17            [-1, 12]  1         0  ultralytics.nn.modules.Concat                [1]                           \n",
            " 18                  -1  1    123648  ultralytics.nn.modules.C2f                   [192, 128, 1]                 \n",
            " 19                  -1  1    147712  ultralytics.nn.modules.Conv                  [128, 128, 3, 2]              \n",
            " 20             [-1, 9]  1         0  ultralytics.nn.modules.Concat                [1]                           \n",
            " 21                  -1  1    493056  ultralytics.nn.modules.C2f                   [384, 256, 1]                 \n",
            " 22        [15, 18, 21]  1    751507  ultralytics.nn.modules.Detect                [1, [64, 128, 256]]           \n",
            "YOLOv8n summary: 225 layers, 3011043 parameters, 3011027 gradients, 8.2 GFLOPs\n",
            "\n",
            "Transferred 319/355 items from pretrained weights\n",
            "\u001b[34m\u001b[1mTensorBoard: \u001b[0mStart with 'tensorboard --logdir /content/drive/MyDrive/Colab Notebooks/Results/autoPanning_20230410_1251_04_epoch5', view at http://localhost:6006/\n",
            "\u001b[34m\u001b[1mAMP: \u001b[0mrunning Automatic Mixed Precision (AMP) checks with YOLOv8n...\n"
          ]
        },
        {
          "output_type": "stream",
          "name": "stdout",
          "text": [
            "save_dir is configured as  /content/ultralytics_panning/runs/detect/predict\n"
          ]
        },
        {
          "output_type": "stream",
          "name": "stderr",
          "text": [
            "\u001b[34m\u001b[1mAMP: \u001b[0mchecks passed ✅\n",
            "\u001b[34m\u001b[1moptimizer:\u001b[0m SGD(lr=0.01) with parameter groups 57 weight(decay=0.0), 64 weight(decay=0.0005859375000000001), 63 bias\n",
            "\u001b[34m\u001b[1mtrain: \u001b[0mScanning /content/drive/MyDrive/Colab Notebooks/Datas/AutoPanning/datasets/darknet/220405/train.cache... 87 images, 0 backgrounds, 1 corrupt: 100%|██████████| 87/87 [00:00<?, ?it/s]\n",
            "\u001b[34m\u001b[1malbumentations: \u001b[0mBlur(p=0.01, blur_limit=(3, 7)), MedianBlur(p=0.01, blur_limit=(3, 7)), ToGray(p=0.01), CLAHE(p=0.01, clip_limit=(1, 4.0), tile_grid_size=(8, 8))\n",
            "\u001b[34m\u001b[1mval: \u001b[0mScanning /content/drive/MyDrive/Colab Notebooks/Datas/AutoPanning/datasets/darknet/220405/valid.cache... 7 images, 0 backgrounds, 1 corrupt: 100%|██████████| 7/7 [00:00<?, ?it/s]\n",
            "Plotting labels to /content/drive/MyDrive/Colab Notebooks/Results/autoPanning_20230410_1251_04_epoch5/labels.jpg... \n",
            "Image sizes 640 train, 640 val\n",
            "Using 2 dataloader workers\n",
            "Logging results to \u001b[1m/content/drive/MyDrive/Colab Notebooks/Results/autoPanning_20230410_1251_04_epoch5\u001b[0m\n",
            "Starting training for 5 epochs...\n",
            "\n",
            "      Epoch    GPU_mem   box_loss   cls_loss   dfl_loss  Instances       Size\n",
            "        1/5      3.39G      2.034      3.659      1.997         37        640: 100%|██████████| 4/4 [00:15<00:00,  3.76s/it]\n",
            "/usr/local/lib/python3.9/dist-packages/torch/optim/lr_scheduler.py:139: UserWarning: Detected call of `lr_scheduler.step()` before `optimizer.step()`. In PyTorch 1.1.0 and later, you should call them in the opposite order: `optimizer.step()` before `lr_scheduler.step()`.  Failure to do this will result in PyTorch skipping the first value of the learning rate schedule. See more details at https://pytorch.org/docs/stable/optim.html#how-to-adjust-learning-rate\n",
            "  warnings.warn(\"Detected call of `lr_scheduler.step()` before `optimizer.step()`. \"\n",
            "                 Class     Images  Instances      Box(P          R      mAP50  mAP50-95): 100%|██████████| 1/1 [00:12<00:00, 12.14s/it]\n",
            "                   all          7         14    0.00381      0.571    0.00374    0.00208\n",
            "\n",
            "      Epoch    GPU_mem   box_loss   cls_loss   dfl_loss  Instances       Size\n",
            "        2/5      3.42G      2.012      3.625      1.957         48        640: 100%|██████████| 4/4 [00:05<00:00,  1.44s/it]\n",
            "                 Class     Images  Instances      Box(P          R      mAP50  mAP50-95): 100%|██████████| 1/1 [00:08<00:00,  8.19s/it]\n",
            "                   all          7         14    0.00381      0.571    0.00431    0.00268\n",
            "\n",
            "      Epoch    GPU_mem   box_loss   cls_loss   dfl_loss  Instances       Size\n",
            "        3/5      3.43G      1.798      3.593      1.823         42        640: 100%|██████████| 4/4 [00:04<00:00,  1.22s/it]\n",
            "                 Class     Images  Instances      Box(P          R      mAP50  mAP50-95): 100%|██████████| 1/1 [00:06<00:00,  6.51s/it]\n",
            "                   all          7         14    0.00429      0.643    0.00539    0.00317\n",
            "\n",
            "      Epoch    GPU_mem   box_loss   cls_loss   dfl_loss  Instances       Size\n",
            "        4/5      3.42G      1.708      3.524      1.737         66        640: 100%|██████████| 4/4 [00:05<00:00,  1.35s/it]\n",
            "                 Class     Images  Instances      Box(P          R      mAP50  mAP50-95): 100%|██████████| 1/1 [00:06<00:00,  6.35s/it]\n",
            "                   all          7         14    0.00429      0.643    0.00626    0.00344\n",
            "\n",
            "      Epoch    GPU_mem   box_loss   cls_loss   dfl_loss  Instances       Size\n",
            "        5/5      3.39G      1.639      3.506      1.699         64        640: 100%|██████████| 4/4 [00:06<00:00,  1.55s/it]\n",
            "                 Class     Images  Instances      Box(P          R      mAP50  mAP50-95): 100%|██████████| 1/1 [00:06<00:00,  6.30s/it]\n",
            "                   all          7         14    0.00476      0.714    0.00853    0.00501\n",
            "\n",
            "5 epochs completed in 0.024 hours.\n",
            "Optimizer stripped from /content/drive/MyDrive/Colab Notebooks/Results/autoPanning_20230410_1251_04_epoch5/weights/last.pt, 6.2MB\n",
            "Optimizer stripped from /content/drive/MyDrive/Colab Notebooks/Results/autoPanning_20230410_1251_04_epoch5/weights/best.pt, 6.2MB\n",
            "\n",
            "Validating /content/drive/MyDrive/Colab Notebooks/Results/autoPanning_20230410_1251_04_epoch5/weights/best.pt...\n",
            "Ultralytics YOLOv8.0.69 🚀 Python-3.9.16 torch-2.0.0+cu118 CUDA:0 (Tesla T4, 15102MiB)\n",
            "YOLOv8n summary (fused): 168 layers, 3005843 parameters, 0 gradients, 8.1 GFLOPs\n",
            "                 Class     Images  Instances      Box(P          R      mAP50  mAP50-95): 100%|██████████| 1/1 [00:06<00:00,  6.35s/it]\n",
            "                   all          7         14    0.00476      0.714    0.00811    0.00481\n",
            "Speed: 0.2ms preprocess, 2.7ms inference, 0.0ms loss, 1.8ms postprocess per image\n",
            "Saving /content/drive/MyDrive/Colab Notebooks/Results/autoPanning_20230410_1251_04_epoch5/predictions.json...\n",
            "Results saved to \u001b[1m/content/drive/MyDrive/Colab Notebooks/Results/autoPanning_20230410_1251_04_epoch5\u001b[0m\n",
            "Ultralytics YOLOv8.0.69 🚀 Python-3.9.16 torch-2.0.0+cu118 CPU\n",
            "YOLOv8n summary (fused): 168 layers, 3005843 parameters, 0 gradients, 8.1 GFLOPs\n",
            "\n",
            "\u001b[34m\u001b[1mPyTorch:\u001b[0m starting from /content/drive/MyDrive/Colab Notebooks/Results/autoPanning_20230410_1251_04_epoch5/weights/best.pt with input shape (1, 3, 640, 640) BCHW and output shape(s) (1, 5, 8400) (6.0 MB)\n",
            "\u001b[31m\u001b[1mrequirements:\u001b[0m YOLOv8 requirement \"onnx>=1.12.0\" not found, attempting AutoUpdate...\n",
            "Looking in indexes: https://pypi.org/simple, https://us-python.pkg.dev/colab-wheels/public/simple/\n",
            "Collecting onnx>=1.12.0\n",
            "  Downloading onnx-1.13.1-cp39-cp39-manylinux_2_17_x86_64.manylinux2014_x86_64.whl (13.5 MB)\n",
            "     ━━━━━━━━━━━━━━━━━━━━━━━━━━━━━━━━━━━━━━━ 13.5/13.5 MB 105.8 MB/s eta 0:00:00\n",
            "Requirement already satisfied: typing-extensions>=3.6.2.1 in /usr/local/lib/python3.9/dist-packages (from onnx>=1.12.0) (4.5.0)\n",
            "Requirement already satisfied: protobuf<4,>=3.20.2 in /usr/local/lib/python3.9/dist-packages (from onnx>=1.12.0) (3.20.3)\n",
            "Requirement already satisfied: numpy>=1.16.6 in /usr/local/lib/python3.9/dist-packages (from onnx>=1.12.0) (1.22.4)\n",
            "Installing collected packages: onnx\n",
            "Successfully installed onnx-1.13.1\n",
            "\n",
            "\u001b[31m\u001b[1mrequirements:\u001b[0m 1 package updated per ['onnx>=1.12.0']\n",
            "\u001b[31m\u001b[1mrequirements:\u001b[0m ⚠️ \u001b[1mRestart runtime or rerun command for updates to take effect\u001b[0m\n",
            "\n",
            "\n",
            "\u001b[34m\u001b[1mONNX:\u001b[0m starting export with onnx 1.13.1 opset 17...\n",
            "\u001b[34m\u001b[1mONNX:\u001b[0m export success ✅ 7.9s, saved as /content/drive/MyDrive/Colab Notebooks/Results/autoPanning_20230410_1251_04_epoch5/weights/best.onnx (11.7 MB)\n",
            "\n",
            "Export complete (8.5s)\n",
            "Results saved to \u001b[1m/content/drive/MyDrive/Colab Notebooks/Results/autoPanning_20230410_1251_04_epoch5/weights\u001b[0m\n",
            "Predict:         yolo predict task=detect model=/content/drive/MyDrive/Colab Notebooks/Results/autoPanning_20230410_1251_04_epoch5/weights/best.onnx imgsz=640 \n",
            "Validate:        yolo val task=detect model=/content/drive/MyDrive/Colab Notebooks/Results/autoPanning_20230410_1251_04_epoch5/weights/best.onnx imgsz=640 data=/content/ultralytics_panning/ultralytics/datasets/yolov8_custom_data.yaml \n",
            "Visualize:       https://netron.app\n"
          ]
        },
        {
          "output_type": "stream",
          "name": "stdout",
          "text": [
            "============= Diagnostic Run torch.onnx.export version 2.0.0+cu118 =============\n",
            "verbose: False, log level: Level.ERROR\n",
            "======================= 0 NONE 0 NOTE 0 WARNING 0 ERROR ========================\n",
            "\n",
            "save_dir is configured as  /content/drive/MyDrive/Colab Notebooks/Results/autoPanning_20230410_1251_04_epoch5/results\n"
          ]
        },
        {
          "output_type": "stream",
          "name": "stderr",
          "text": [
            "visualize feature not yet supported\n",
            "visualize feature not yet supported\n",
            "visualize feature not yet supported\n",
            "visualize feature not yet supported\n",
            "visualize feature not yet supported\n",
            "visualize feature not yet supported\n",
            "visualize feature not yet supported\n",
            "visualize feature not yet supported\n",
            "visualize feature not yet supported\n",
            "visualize feature not yet supported\n",
            "visualize feature not yet supported\n",
            "visualize feature not yet supported\n",
            "visualize feature not yet supported\n",
            "visualize feature not yet supported\n",
            "visualize feature not yet supported\n",
            "visualize feature not yet supported\n",
            "visualize feature not yet supported\n",
            "visualize feature not yet supported\n",
            "visualize feature not yet supported\n",
            "visualize feature not yet supported\n",
            "visualize feature not yet supported\n",
            "visualize feature not yet supported\n",
            "visualize feature not yet supported\n",
            "visualize feature not yet supported\n",
            "visualize feature not yet supported\n",
            "visualize feature not yet supported\n",
            "visualize feature not yet supported\n",
            "visualize feature not yet supported\n",
            "visualize feature not yet supported\n",
            "visualize feature not yet supported\n",
            "visualize feature not yet supported\n",
            "visualize feature not yet supported\n",
            "visualize feature not yet supported\n",
            "visualize feature not yet supported\n",
            "visualize feature not yet supported\n",
            "visualize feature not yet supported\n",
            "visualize feature not yet supported\n",
            "visualize feature not yet supported\n",
            "visualize feature not yet supported\n",
            "visualize feature not yet supported\n",
            "visualize feature not yet supported\n",
            "visualize feature not yet supported\n",
            "visualize feature not yet supported\n",
            "visualize feature not yet supported\n",
            "visualize feature not yet supported\n",
            "visualize feature not yet supported\n",
            "visualize feature not yet supported\n",
            "visualize feature not yet supported\n",
            "visualize feature not yet supported\n",
            "visualize feature not yet supported\n",
            "visualize feature not yet supported\n",
            "visualize feature not yet supported\n",
            "visualize feature not yet supported\n",
            "visualize feature not yet supported\n",
            "visualize feature not yet supported\n",
            "visualize feature not yet supported\n",
            "visualize feature not yet supported\n",
            "visualize feature not yet supported\n",
            "visualize feature not yet supported\n",
            "visualize feature not yet supported\n",
            "visualize feature not yet supported\n",
            "visualize feature not yet supported\n",
            "visualize feature not yet supported\n",
            "visualize feature not yet supported\n",
            "visualize feature not yet supported\n",
            "visualize feature not yet supported\n",
            "visualize feature not yet supported\n",
            "visualize feature not yet supported\n",
            "visualize feature not yet supported\n",
            "visualize feature not yet supported\n",
            "visualize feature not yet supported\n",
            "visualize feature not yet supported\n",
            "visualize feature not yet supported\n",
            "visualize feature not yet supported\n",
            "visualize feature not yet supported\n",
            "visualize feature not yet supported\n",
            "visualize feature not yet supported\n",
            "visualize feature not yet supported\n",
            "visualize feature not yet supported\n",
            "visualize feature not yet supported\n",
            "visualize feature not yet supported\n",
            "visualize feature not yet supported\n",
            "visualize feature not yet supported\n",
            "visualize feature not yet supported\n",
            "visualize feature not yet supported\n",
            "visualize feature not yet supported\n",
            "visualize feature not yet supported\n",
            "visualize feature not yet supported\n",
            "visualize feature not yet supported\n",
            "visualize feature not yet supported\n",
            "visualize feature not yet supported\n",
            "visualize feature not yet supported\n",
            "Results saved to \u001b[1m/content/drive/MyDrive/Colab Notebooks/Results/autoPanning_20230410_1251_04_epoch5/results\u001b[0m\n",
            "0 label saved to /content/drive/MyDrive/Colab Notebooks/Results/autoPanning_20230410_1251_04_epoch5/results/labels\n"
          ]
        }
      ]
    },
    {
      "cell_type": "code",
      "source": [
        "# load tensorboard on colab\n",
        "# https://amitness.com/2020/06/google-colaboratory-tips/\n",
        "%tensorflow_version 2.x\n",
        "%load_ext tensorboard\n",
        "%tensorboard --logdir logs"
      ],
      "metadata": {
        "id": "gleUx1-PONvw"
      },
      "execution_count": null,
      "outputs": []
    },
    {
      "cell_type": "code",
      "source": [
        "# ex) inference with trained model file\n",
        "! yolo task=detect mode=predict model=\"/content/drive/MyDrive/Colab Notebooks/Results/autoPanning_20230407_1732_28_epoch2000/weights/best.pt\" \\\n",
        "conf=0.25 source='/content/Datas/AutoPanning/datasets/darknet/220405/test' save=True project=\"inference_result\""
      ],
      "metadata": {
        "id": "FvCXGGL-5Ka_"
      },
      "execution_count": null,
      "outputs": []
    },
    {
      "cell_type": "code",
      "source": [
        "# ex) export onnx model\n",
        "! yolo export model=\"/content/drive/MyDrive/Colab Notebooks/Results/autoPanning_20230407_1732_28_epoch2000/weights/best.pt\" \\\n",
        "imgsz=640 format=onnx"
      ],
      "metadata": {
        "id": "lDwJ5fx1AB4B"
      },
      "execution_count": null,
      "outputs": []
    },
    {
      "cell_type": "code",
      "source": [
        "%cd /content/ultralytics_panning\n",
        "\n",
        "from ultralytics import YOLO\n",
        "from google.colab.patches import cv2_imshow\n",
        "\n",
        "save_dir=\"/content/drive/MyDrive/Colab Notebooks/Results/autoPanning_20230407_1732_28_epoch2000\"\n",
        "model_path=save_dir+\"/weights/best.pt\";\n",
        "result_dir=save_dir+\"/results\"\n",
        "deleteDirectory(result_dir)\n",
        "\n",
        "predict_model = YOLO(model_path)\n",
        "results  = predict_model.predict(\n",
        "   source='/content/Datas/AutoPanning/datasets/darknet/220405/test',\n",
        "   conf=0.25,\n",
        "   save_conf=True,\n",
        "   save_txt=True,\n",
        "   save_dir=result_dir,\n",
        "   visualize=True,\n",
        "   save=True,\n",
        "   save_crop=True,\n",
        "   boxes=True,\n",
        "   verbose=False\n",
        ")\n",
        "\n",
        "ix = 0\n",
        "for result in results:\n",
        "    ix+=1\n",
        "    print(\"[v]Result: \", ix)\n",
        "    # boxes = result.boxes  # Boxes object for bbox outputs\n",
        "    # masks = result.masks  # Masks object for segmentation masks outputs\n",
        "    # probs = result.probs  # Class probabilities for classification outputs\n",
        "    # print(\"Results: \", boxes, \", masks: \",masks, \", probs: \",probs)\n",
        "    res_plotted = result.plot()\n",
        "    cv2_imshow(res_plotted)"
      ],
      "metadata": {
        "id": "87MGuXaMRUGG"
      },
      "execution_count": null,
      "outputs": []
    },
    {
      "cell_type": "code",
      "source": [
        "# Run JupyterLab\n",
        "!pip install jupyterlab pyngrok -q\n",
        "\n",
        "# Run jupyterlab in the background\n",
        "!nohup jupyter lab --ip=0.0.0.0 &\n",
        "\n",
        "# Get ngrok URL mapped to port 8888\n",
        "from pyngrok import ngrok\n",
        "print(ngrok.connect(8888))"
      ],
      "metadata": {
        "id": "pnqK5heGWlfd"
      },
      "execution_count": null,
      "outputs": []
    }
  ]
}